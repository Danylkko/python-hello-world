{
  "cells": [
    {
      "cell_type": "markdown",
      "metadata": {
        "id": "5qV_sehzFCTp"
      },
      "source": [
        "# I. OOP"
      ]
    },
    {
      "cell_type": "markdown",
      "metadata": {
        "id": "tx_U_hOALyfg"
      },
      "source": [
        "1. (6б). Створіть клас Animal, додайте три атрибути, один з яких має значення за замовчуванням та два методи на свій розсуд."
      ]
    },
    {
      "cell_type": "code",
      "execution_count": 16,
      "metadata": {
        "id": "-Vf895KaL88N"
      },
      "outputs": [],
      "source": [
        "class Animal:\n",
        "    \n",
        "    def __init__(self, size, sex, weight=50):\n",
        "        self.size = size\n",
        "        self.sex = sex\n",
        "        self.weight = weight\n",
        "\n",
        "    def hunt(self):\n",
        "        print('Hunting...')\n",
        "\n",
        "    def sleep(self):\n",
        "        print('Sleeping...')"
      ]
    },
    {
      "cell_type": "markdown",
      "metadata": {
        "id": "X_UlOMB0L93w"
      },
      "source": [
        "2. (2б). Створіть два обʼєкти цього класу, де один з обʼєктів створюється із дефолтним значенням атрибуту. На одному обʼєкті отримайте значення його атрибуту, а на іншому викличте один з його методів."
      ]
    },
    {
      "cell_type": "code",
      "execution_count": 17,
      "metadata": {
        "id": "7gBu0ESOMCpG"
      },
      "outputs": [
        {
          "name": "stdout",
          "output_type": "stream",
          "text": [
            "Sex of bear is male\n",
            "Sleeping...\n"
          ]
        }
      ],
      "source": [
        "bear = Animal('big', 'male', 500)\n",
        "fox = Animal('small', 'female')\n",
        "\n",
        "print(f'Sex of bear is { bear.sex }')\n",
        "fox.sleep()"
      ]
    },
    {
      "cell_type": "markdown",
      "metadata": {
        "id": "HoqSCZt1MHn5"
      },
      "source": [
        "3. (5б). Створіть клас, де атрибути мають різні рівні доступу. Спробуйте отримати їхні значення та опишіть результати."
      ]
    },
    {
      "cell_type": "code",
      "execution_count": 18,
      "metadata": {
        "id": "r9b3vJxBMSPV"
      },
      "outputs": [
        {
          "name": "stdout",
          "output_type": "stream",
          "text": [
            "Cpu is intel\n",
            "Gpu is nvidia\n"
          ]
        },
        {
          "ename": "AttributeError",
          "evalue": "'ComputingMachine' object has no attribute '__ram'",
          "output_type": "error",
          "traceback": [
            "\u001b[0;31m---------------------------------------------------------------------------\u001b[0m",
            "\u001b[0;31mAttributeError\u001b[0m                            Traceback (most recent call last)",
            "Cell \u001b[0;32mIn[18], line 11\u001b[0m\n\u001b[1;32m      9\u001b[0m \u001b[38;5;28mprint\u001b[39m(\u001b[38;5;124mf\u001b[39m\u001b[38;5;124m'\u001b[39m\u001b[38;5;124mCpu is \u001b[39m\u001b[38;5;132;01m{\u001b[39;00m\u001b[38;5;250m \u001b[39mmachine\u001b[38;5;241m.\u001b[39mcpu\u001b[38;5;250m \u001b[39m\u001b[38;5;132;01m}\u001b[39;00m\u001b[38;5;124m'\u001b[39m)\n\u001b[1;32m     10\u001b[0m \u001b[38;5;28mprint\u001b[39m(\u001b[38;5;124mf\u001b[39m\u001b[38;5;124m'\u001b[39m\u001b[38;5;124mGpu is \u001b[39m\u001b[38;5;132;01m{\u001b[39;00m\u001b[38;5;250m \u001b[39mmachine\u001b[38;5;241m.\u001b[39m_gpu\u001b[38;5;250m \u001b[39m\u001b[38;5;132;01m}\u001b[39;00m\u001b[38;5;124m'\u001b[39m)\n\u001b[0;32m---> 11\u001b[0m \u001b[38;5;28mprint\u001b[39m(\u001b[38;5;124mf\u001b[39m\u001b[38;5;124m'\u001b[39m\u001b[38;5;124mRam is \u001b[39m\u001b[38;5;132;01m{\u001b[39;00m\u001b[38;5;250m \u001b[39mmachine\u001b[38;5;241m.\u001b[39m__ram\u001b[38;5;250m \u001b[39m\u001b[38;5;132;01m}\u001b[39;00m\u001b[38;5;124m'\u001b[39m)\n",
            "\u001b[0;31mAttributeError\u001b[0m: 'ComputingMachine' object has no attribute '__ram'"
          ]
        }
      ],
      "source": [
        "class ComputingMachine:\n",
        "\n",
        "    def __init__(self, cpu, gpu, ram):\n",
        "        self.cpu = cpu\n",
        "        self._gpu = gpu\n",
        "        self.__ram = ram\n",
        "\n",
        "machine = ComputingMachine('intel', 'nvidia', 'ddr4x')\n",
        "print(f'Cpu is { machine.cpu }')\n",
        "print(f'Gpu is { machine._gpu }')\n",
        "print(f'Ram is { machine.__ram }')"
      ]
    },
    {
      "cell_type": "markdown",
      "metadata": {},
      "source": [
        "Ми отримали помилку при спробі отримати значення private поля, що досить очікувано. Також ми маємо змогу отрмати значення protected поля, хоч це і не рекомендовано робити, адже вони призначені для того, щоб бути використаними нащадками класу, а не для будь-кого ззовні."
      ]
    },
    {
      "cell_type": "markdown",
      "metadata": {
        "id": "5op2m2vgMSkZ"
      },
      "source": [
        "4. (7б). Як ви розумієте термін self? Для чого використовується метод __init __?"
      ]
    },
    {
      "cell_type": "markdown",
      "metadata": {},
      "source": [
        "'self' це посилання на поточний екземпляр класу. метод __init__ використовується для ініціалізації полів класу, а не для створення, як прийнято вважати при використанні інших мов програмування."
      ]
    },
    {
      "cell_type": "markdown",
      "metadata": {
        "id": "DyiPqNRvMasx"
      },
      "source": [
        "*місце для відповіді"
      ]
    },
    {
      "cell_type": "markdown",
      "metadata": {
        "id": "-6X8EGfjMd2y"
      },
      "source": [
        "5. (9б). Створіть клас Фігура без атрибутів, з методом get_area для отримання площі фігури, що повертає 0 та __add __, який приймає self та other в якості аргументів, а повертає суму площин фігур self та other."
      ]
    },
    {
      "cell_type": "code",
      "execution_count": null,
      "metadata": {
        "id": "4rvO_wYUMaEr"
      },
      "outputs": [],
      "source": [
        "class Figure:\n",
        "\n",
        "    def get_area(self):\n",
        "        return 0\n",
        "    \n",
        "    def __add__(self, other):\n",
        "        return self.get_area() + other.get_area()"
      ]
    },
    {
      "cell_type": "markdown",
      "metadata": {
        "id": "SFcKnnv5Mo_z"
      },
      "source": [
        "6. (11б). Створіть 2 дочірніх класи від Фігури: Трикутник та Коло, які мають атрибути, необхідні для розрахунку площин. Визначте метод get_area в кожному з них так, щоби вони розраховували площу в залежності від формули для кожного типу фігури. Створіть обʼєкт класу Трикутник та обʼєкт класу Коло. Виконайте операцію суми за допомогою оператора + між ними."
      ]
    },
    {
      "cell_type": "code",
      "execution_count": null,
      "metadata": {
        "id": "H3GVNr69Muf3"
      },
      "outputs": [
        {
          "name": "stdout",
          "output_type": "stream",
          "text": [
            "S_triangle + S_circle = (339.1592653589793)\n"
          ]
        }
      ],
      "source": [
        "from math import pi\n",
        "\n",
        "class Triangle(Figure):\n",
        "\n",
        "    def __init__(self, sideA, heightA):\n",
        "        self.sideA = sideA\n",
        "        self.heightA = heightA\n",
        "\n",
        "    def get_area(self):\n",
        "        return 0.5 * self.sideA * self.heightA\n",
        "    \n",
        "class Circle(Figure):\n",
        "\n",
        "    def __init__(self, radius):\n",
        "        self.radius = radius\n",
        "\n",
        "    def get_area(self):\n",
        "        return pi * self.radius**2\n",
        "    \n",
        "my_triangle = Triangle(10, 5)\n",
        "my_cirle = Circle(10)\n",
        "\n",
        "print(f'S_triangle + S_circle = ({ my_triangle + my_cirle})')"
      ]
    },
    {
      "cell_type": "markdown",
      "metadata": {
        "id": "HCvR206YMvLK"
      },
      "source": [
        "7. (3б). Продемонструйте різницю між isinstance та issubclass."
      ]
    },
    {
      "cell_type": "code",
      "execution_count": null,
      "metadata": {
        "id": "L_V1bBvDM0GN"
      },
      "outputs": [
        {
          "name": "stdout",
          "output_type": "stream",
          "text": [
            "True\n",
            "False\n"
          ]
        }
      ],
      "source": [
        "print(isinstance(my_triangle, Triangle)) # <-- to check whether object is of certain type\n",
        "print(issubclass(Figure, Triangle)) # <-- to check class for subclassing "
      ]
    },
    {
      "cell_type": "markdown",
      "metadata": {
        "id": "jjsaBZ-iM0Qq"
      },
      "source": [
        "8. (13б). Створіть клас BankAccount з приватними атрибутами balance та account_number. Реалізуйте методи поповнення та зняття коштів, забезпечивши належну інкапсуляцію. Підказка: використовуйте декоратори property та setter."
      ]
    },
    {
      "cell_type": "code",
      "execution_count": 26,
      "metadata": {
        "id": "xCvZ7lh8M7YA"
      },
      "outputs": [
        {
          "name": "stdout",
          "output_type": "stream",
          "text": [
            "Account can't be topped up with negative value\n",
            "Account topped up for 1000\n",
            "Withdrawn 2000 from account\n"
          ]
        }
      ],
      "source": [
        "class BankAccount:\n",
        "\n",
        "    def __init__(self, account_number, balance):\n",
        "        self.__account_number = account_number\n",
        "        self.__balance = balance\n",
        "\n",
        "    @property\n",
        "    def balance(self):\n",
        "        return self.__balance\n",
        "    \n",
        "    @balance.setter\n",
        "    def balance(self, amount):\n",
        "        if amount > 0:\n",
        "            self.__balance = amount\n",
        "    \n",
        "    def top_up(self, amount):\n",
        "        if amount > 0:\n",
        "            self.__balance += amount\n",
        "            print(f'Account topped up for { amount }')\n",
        "        else:\n",
        "            print('Account can\\'t be topped up with negative value')\n",
        "\n",
        "    def withdraw(self, amount):\n",
        "        if self.__balance >= amount:\n",
        "            self.__balance -= amount\n",
        "            print(f'Withdrawn { amount } from account')\n",
        "        else:\n",
        "            print(f'Withdrawn amount must not exceed balance')\n",
        "\n",
        "my_account = BankAccount('1234567890', 1000)\n",
        "my_account.top_up(-500)\n",
        "my_account.top_up(1000)\n",
        "my_account.withdraw(2000)"
      ]
    },
    {
      "cell_type": "markdown",
      "metadata": {
        "id": "tIzL2SJTM8ft"
      },
      "source": [
        "9. (11б). Створіть клас Library, який містить список об'єктів типу Book. Реалізуйте методи для додавання книги, видалення книги та відображення списку книг."
      ]
    },
    {
      "cell_type": "code",
      "execution_count": 30,
      "metadata": {
        "id": "HWxfJKLtNAUZ"
      },
      "outputs": [
        {
          "name": "stdout",
          "output_type": "stream",
          "text": [
            "My books are:\n",
            "\"1984\" by J. Orwell\n",
            "\"Angels and Demons\" by Dan Brown\n",
            "\n"
          ]
        }
      ],
      "source": [
        "class Book:\n",
        "\n",
        "    def __init__(self, name, author):\n",
        "        self.__name = name\n",
        "        self.__author = author\n",
        "\n",
        "    @property\n",
        "    def name(self):\n",
        "        return self.__name\n",
        "    \n",
        "    @property\n",
        "    def author(self):\n",
        "        return self.__author\n",
        "    \n",
        "    def __str__(self):\n",
        "        return f'\\\"{self.name}\\\" by {self.author}'\n",
        "    \n",
        "class Library:\n",
        "\n",
        "    def __init__(self, books):\n",
        "        self.__books = books\n",
        "\n",
        "    @property\n",
        "    def books(self):\n",
        "        return self.__books\n",
        "\n",
        "    def add_book(self, book):\n",
        "        self.__books.append(book)\n",
        "\n",
        "    def __find_first(self, predicate, elements):\n",
        "        return next((x for x in elements if predicate(x)), None)\n",
        "\n",
        "    def remove_book(self, book):\n",
        "        book_to_delete = self.__find_first(lambda some_book: some_book.name == book.name and some_book.author == book.author, self.__books)\n",
        "        self.__books.remove(book_to_delete)\n",
        "\n",
        "    def __str__(self):\n",
        "        result = \"My books are:\\n\"\n",
        "        for book in self.__books:\n",
        "            result += str(book) + \"\\n\"\n",
        "        return result\n",
        "    \n",
        "library = Library([Book('Harry Potter', 'J. K. Rowling'), Book('1984', 'J. Orwell')])\n",
        "library.add_book(Book('Angels and Demons', 'Dan Brown'))\n",
        "library.remove_book(Book('Harry Potter', 'J. K. Rowling'))\n",
        "print(str(library))\n"
      ]
    },
    {
      "cell_type": "markdown",
      "metadata": {
        "id": "lmV8pAwwNIqu"
      },
      "source": [
        "10. (13б). Створіть клас Person з атрибутами name та age. Створіть ще один клас Employee з такими атрибутами, як department та salary. Створіть клас Manager, який успадковує обидва класи Person та Employee. Продемонструйте використання множинної спадковості, створивши обʼєкт класу Manager та отримавши mro для цього класу."
      ]
    },
    {
      "cell_type": "code",
      "execution_count": 31,
      "metadata": {
        "id": "R49grKlWNPeN"
      },
      "outputs": [
        {
          "name": "stdout",
          "output_type": "stream",
          "text": [
            "(<class '__main__.Manager'>, <class '__main__.Employee'>, <class '__main__.Person'>, <class 'object'>)\n"
          ]
        }
      ],
      "source": [
        "class Person:\n",
        "\n",
        "    def __init__(self, name, age):\n",
        "        self.__name = name\n",
        "        self.__age =  age\n",
        "\n",
        "class Employee:\n",
        "\n",
        "    def __init__(self, department, salary):\n",
        "        self.__department = department\n",
        "        self.__salary = salary\n",
        "\n",
        "class Manager(Employee, Person):\n",
        "\n",
        "    def __init__(self, name, age, department, salary):\n",
        "        super().__init__(department, salary)\n",
        "        super().__init__(name, age)\n",
        "\n",
        "manager = Manager('Ryan Gosling', 15, 'Power Rangers', 1000)\n",
        "print(Manager.__mro__)"
      ]
    },
    {
      "cell_type": "markdown",
      "metadata": {
        "id": "dIJyUiNBFG8G"
      },
      "source": [
        "# II. Iterator"
      ]
    },
    {
      "cell_type": "markdown",
      "metadata": {
        "id": "13vsm0NyKIzL"
      },
      "source": [
        "11. (4б). Визначте рядок(str) з 4ма різними за значенням символами. Створіть ітератор на основі цього рядка. Викличте 5 разів функцію next на ітераторі, 4ри перших з них огорніть у ф-цію print()."
      ]
    },
    {
      "cell_type": "code",
      "execution_count": 32,
      "metadata": {
        "id": "81ntabAkKuz-"
      },
      "outputs": [
        {
          "name": "stdout",
          "output_type": "stream",
          "text": [
            "d\n",
            "n\n",
            "l\n",
            "o\n"
          ]
        },
        {
          "ename": "StopIteration",
          "evalue": "",
          "output_type": "error",
          "traceback": [
            "\u001b[0;31m---------------------------------------------------------------------------\u001b[0m",
            "\u001b[0;31mStopIteration\u001b[0m                             Traceback (most recent call last)",
            "Cell \u001b[0;32mIn[32], line 9\u001b[0m\n\u001b[1;32m      6\u001b[0m \u001b[38;5;28mprint\u001b[39m(\u001b[38;5;28mnext\u001b[39m(my_str_iter))\n\u001b[1;32m      7\u001b[0m \u001b[38;5;28mprint\u001b[39m(\u001b[38;5;28mnext\u001b[39m(my_str_iter))\n\u001b[0;32m----> 9\u001b[0m \u001b[38;5;28;43mnext\u001b[39;49m\u001b[43m(\u001b[49m\u001b[43mmy_str_iter\u001b[49m\u001b[43m)\u001b[49m\n",
            "\u001b[0;31mStopIteration\u001b[0m: "
          ]
        }
      ],
      "source": [
        "my_str = 'dnlo'\n",
        "my_str_iter = iter(my_str)\n",
        "\n",
        "print(next(my_str_iter))\n",
        "print(next(my_str_iter))\n",
        "print(next(my_str_iter))\n",
        "print(next(my_str_iter))\n",
        "\n",
        "next(my_str_iter)"
      ]
    },
    {
      "cell_type": "markdown",
      "metadata": {
        "id": "aekWHGXOLRsO"
      },
      "source": [
        "А що якщо викликати цю ж функцію на рядку?"
      ]
    },
    {
      "cell_type": "code",
      "execution_count": 33,
      "metadata": {
        "id": "mxATGsErLV1i"
      },
      "outputs": [
        {
          "ename": "TypeError",
          "evalue": "'str' object is not an iterator",
          "output_type": "error",
          "traceback": [
            "\u001b[0;31m---------------------------------------------------------------------------\u001b[0m",
            "\u001b[0;31mTypeError\u001b[0m                                 Traceback (most recent call last)",
            "Cell \u001b[0;32mIn[33], line 1\u001b[0m\n\u001b[0;32m----> 1\u001b[0m \u001b[38;5;28;43mnext\u001b[39;49m\u001b[43m(\u001b[49m\u001b[43mmy_str\u001b[49m\u001b[43m)\u001b[49m\n",
            "\u001b[0;31mTypeError\u001b[0m: 'str' object is not an iterator"
          ]
        }
      ],
      "source": [
        "next(my_str)"
      ]
    },
    {
      "cell_type": "markdown",
      "metadata": {
        "id": "XwtMEopwJ4pH"
      },
      "source": [
        " 12. (5б). Опишіть своїми словами в одному реченні, як ви розумієте різницю між ітерабельними обʼєктами та ітераторами (можна на прикладі). "
      ]
    },
    {
      "cell_type": "markdown",
      "metadata": {
        "id": "-sHrODc3KFn8"
      },
      "source": [
        "\n",
        "Ітерабельні об'єкти - це обʼєкти, які можна використати для створення ітератора, а ітератор - це об'єкт, який послідовно видає значення з ітерабельного об'єкта."
      ]
    },
    {
      "cell_type": "markdown",
      "metadata": {
        "id": "E9qJWmNbK8Gl"
      },
      "source": [
        "13. (11б). Створіть клас, що має визначений Iterator Protocol та при кожному виклику next повертає літери англійської абетки, поки вони не вичерпаються."
      ]
    },
    {
      "cell_type": "code",
      "execution_count": 34,
      "metadata": {
        "id": "cqx-g_RsLo6I"
      },
      "outputs": [
        {
          "name": "stdout",
          "output_type": "stream",
          "text": [
            "a\n",
            "b\n",
            "c\n",
            "d\n",
            "e\n",
            "f\n",
            "g\n",
            "h\n",
            "i\n",
            "j\n",
            "k\n",
            "l\n",
            "m\n",
            "n\n",
            "o\n",
            "p\n",
            "q\n",
            "r\n",
            "s\n",
            "t\n",
            "u\n",
            "v\n",
            "w\n",
            "x\n",
            "y\n",
            "z\n"
          ]
        }
      ],
      "source": [
        "class AlphabetIterator:\n",
        "\n",
        "  def __init__(self):\n",
        "    self._current_letter = 'a'\n",
        "\n",
        "  def __iter__(self):\n",
        "    return self\n",
        "\n",
        "  def __next__(self):\n",
        "    if self._current_letter > 'z':\n",
        "      raise StopIteration\n",
        "    letter = self._current_letter\n",
        "    self._current_letter = chr(ord(self._current_letter) + 1)\n",
        "    return letter\n",
        "\n",
        "my_alph_iter = AlphabetIterator()\n",
        "for letter in my_alph_iter:\n",
        "  print(letter)"
      ]
    },
    {
      "cell_type": "markdown",
      "metadata": {
        "id": "Z3E3S_s1Fv7-"
      },
      "source": [
        "# Вітаю! Ви велика(ий) молодець, що впоралась(вся). Похваліть себе та побалуйте чимось приємним. Я Вами пишаюся."
      ]
    }
  ],
  "metadata": {
    "colab": {
      "provenance": []
    },
    "kernelspec": {
      "display_name": "Python 3",
      "name": "python3"
    },
    "language_info": {
      "codemirror_mode": {
        "name": "ipython",
        "version": 3
      },
      "file_extension": ".py",
      "mimetype": "text/x-python",
      "name": "python",
      "nbconvert_exporter": "python",
      "pygments_lexer": "ipython3",
      "version": "3.9.6"
    }
  },
  "nbformat": 4,
  "nbformat_minor": 0
}
